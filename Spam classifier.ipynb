{
 "cells": [
  {
   "cell_type": "markdown",
   "metadata": {},
   "source": [
    "# Spam Classifier"
   ]
  },
  {
   "cell_type": "markdown",
   "metadata": {},
   "source": [
    "Use this notebook to train a classyfier for the Apache SpamAssassin data, and pick the best one!"
   ]
  },
  {
   "cell_type": "code",
   "execution_count": 1,
   "metadata": {},
   "outputs": [],
   "source": [
    "import os\n",
    "import sys\n",
    "import email\n",
    "import email.policy\n",
    "import numpy as np\n",
    "\n",
    "from collections import Counter\n",
    "from sklearn.model_selection import train_test_split\n",
    "\n",
    "import warnings\n",
    "warnings.filterwarnings('ignore')"
   ]
  },
  {
   "cell_type": "code",
   "execution_count": 2,
   "metadata": {},
   "outputs": [],
   "source": [
    "SPAM_DIR = \"./data/spam\"\n",
    "HAM_DIR = \"./data/ham\""
   ]
  },
  {
   "cell_type": "markdown",
   "metadata": {},
   "source": [
    "### Load data"
   ]
  },
  {
   "cell_type": "markdown",
   "metadata": {},
   "source": [
    "Download the spam emails by runnig \n",
    "\n",
    "`python startup.py`"
   ]
  },
  {
   "cell_type": "code",
   "execution_count": 3,
   "metadata": {},
   "outputs": [],
   "source": [
    "# Load all the emails\n",
    "ham_filenames = [name for name in sorted(os.listdir(HAM_DIR)) if name != 'cmds']\n",
    "spam_filenames = [name for name in sorted(os.listdir(SPAM_DIR)) if name != 'cmds']"
   ]
  },
  {
   "cell_type": "code",
   "execution_count": 4,
   "metadata": {},
   "outputs": [
    {
     "data": {
      "text/plain": [
       "4150"
      ]
     },
     "execution_count": 4,
     "metadata": {},
     "output_type": "execute_result"
    }
   ],
   "source": [
    "len(ham_filenames)"
   ]
  },
  {
   "cell_type": "code",
   "execution_count": 5,
   "metadata": {},
   "outputs": [
    {
     "data": {
      "text/plain": [
       "1897"
      ]
     },
     "execution_count": 5,
     "metadata": {},
     "output_type": "execute_result"
    }
   ],
   "source": [
    "len(spam_filenames)"
   ]
  },
  {
   "cell_type": "code",
   "execution_count": 6,
   "metadata": {},
   "outputs": [],
   "source": [
    "def load_emails(directory, filename):\n",
    "    with open(os.path.join(directory, filename), \"rb\") as f:\n",
    "        return email.parser.BytesParser(policy=email.policy.default).parse(f)"
   ]
  },
  {
   "cell_type": "code",
   "execution_count": 7,
   "metadata": {},
   "outputs": [],
   "source": [
    "ham_emails = [load_emails(HAM_DIR, filename=name) for name in ham_filenames]\n",
    "spam_emails = [load_emails(SPAM_DIR, filename=name) for name in spam_filenames]"
   ]
  },
  {
   "cell_type": "code",
   "execution_count": 8,
   "metadata": {},
   "outputs": [
    {
     "data": {
      "text/plain": [
       "4150"
      ]
     },
     "execution_count": 8,
     "metadata": {},
     "output_type": "execute_result"
    }
   ],
   "source": [
    "len(ham_emails)"
   ]
  },
  {
   "cell_type": "code",
   "execution_count": 9,
   "metadata": {},
   "outputs": [
    {
     "data": {
      "text/plain": [
       "1897"
      ]
     },
     "execution_count": 9,
     "metadata": {},
     "output_type": "execute_result"
    }
   ],
   "source": [
    "len(spam_emails)"
   ]
  },
  {
   "cell_type": "markdown",
   "metadata": {},
   "source": [
    "## Spam / Ham emails"
   ]
  },
  {
   "cell_type": "markdown",
   "metadata": {},
   "source": [
    "Let's familiarize with the data:"
   ]
  },
  {
   "cell_type": "code",
   "execution_count": 10,
   "metadata": {},
   "outputs": [
    {
     "data": {
      "text/plain": [
       "'Cellular Phone Accessories All At Below Wholesale Prices!\\n\\nhttp://202.101.163.34:81/sites/merchant/sales/\\n\\nHands Free Ear Buds 1.99! \\nPhone Holsters 1.98! \\nBooster Antennas Only $0.99\\nPhone Cases 1.98! \\nCar Chargers 1.98! \\nFace Plates As Low As 0.99! \\nLithium Ion Batteries As Low As 6.94! \\n\\nhttp://202.101.163.34:81/sites/merchant/sales/\\n\\nClick Below For Accessories On All NOKIA, MOTOROLA LG, NEXTEL, \\nSAMSUNG, QUALCOMM, ERICSSON, AUDIOVOX PHONES At Below \\nWHOLESALE PRICES!\\n\\nhttp://202.101.163.34:81/sites/merchant/sales/\\n\\n***If You Need Assistance Please Call Us (732) 751-1457***\\n\\n\\n~~~~~~~~~~~~~~~~~~~~~~~~~~~~~~~~\\nTo be removed from future mailings please send your remove \\nrequest to: removemenow68994@btamail.net.cn \\nThank You and have a super day :)\\n\\n'"
      ]
     },
     "execution_count": 10,
     "metadata": {},
     "output_type": "execute_result"
    }
   ],
   "source": [
    "spam_emails[20].get_content()"
   ]
  },
  {
   "cell_type": "code",
   "execution_count": 11,
   "metadata": {},
   "outputs": [
    {
     "name": "stdout",
     "output_type": "stream",
     "text": [
      "Return-Path : <hurst@missouri.co.jp>\n",
      "Delivered-To : zzzz@localhost.spamassassin.taint.org\n",
      "Received : from localhost (localhost [127.0.0.1])\tby phobos.labs.spamassassin.taint.org (Postfix) with ESMTP id 2667B44156\tfor <zzzz@localhost>; Fri, 23 Aug 2002 06:02:51 -0400 (EDT)\n",
      "Received : from mail.webnote.net [193.120.211.219]\tby localhost with POP3 (fetchmail-5.9.0)\tfor zzzz@localhost (single-drop); Fri, 23 Aug 2002 11:02:51 +0100 (IST)\n",
      "Received : from toole.uol.com.br (toole.uol.com.br [200.231.206.186])\tby webnote.net (8.9.3/8.9.3) with ESMTP id WAA06855;\tThu, 22 Aug 2002 22:28:56 +0100\n",
      "From : hurst@missouri.co.jp\n",
      "Received : from activatormail.com ([200.158.104.164])\tby toole.uol.com.br (8.9.1/8.9.1) with SMTP id SAA13079;\tThu, 22 Aug 2002 18:21:49 -0300 (BRT)\n",
      "Message-ID : <000023b8700d$00003a16$00004696@missouri.co.jp>\n",
      "To : hurst@missouri.co.jp\n",
      "Subject : ^^^^^Cell Phone Belt Clips $1.95^^^^^^                           18070\n",
      "Date : Thu, 22 Aug 2002 15:45:31 -0600\n",
      "MIME-Version : 1.0\n",
      "Content-Type : text/plain; charset=\"Windows-1252\"\n",
      "Content-Transfer-Encoding : 7bit\n",
      "X-Priority : 3\n",
      "X-MSMail-Priority : Normal\n",
      "X-Mailer : Microsoft Outlook Express 5.00.2615.200\n",
      "X-MimeOLE : Produced By Microsoft MimeOLE V5.00.2615.200\n"
     ]
    }
   ],
   "source": [
    "# get email headers\n",
    "for header, value in spam_emails[20].items():\n",
    "    print(header,\":\",value)"
   ]
  },
  {
   "cell_type": "code",
   "execution_count": 12,
   "metadata": {},
   "outputs": [
    {
     "data": {
      "text/plain": [
       "\"Klez: The Virus That Won't Die\\n \\nAlready the most prolific virus ever, Klez continues to wreak havoc.\\n\\nAndrew Brandt\\n>>From the September 2002 issue of PC World magazine\\nPosted Thursday, August 01, 2002\\n\\n\\nThe Klez worm is approaching its seventh month of wriggling across \\nthe Web, making it one of the most persistent viruses ever. And \\nexperts warn that it may be a harbinger of new viruses that use a \\ncombination of pernicious approaches to go from PC to PC.\\n\\nAntivirus software makers Symantec and McAfee both report more than \\n2000 new infections daily, with no sign of letup at press time. The \\nBritish security firm MessageLabs estimates that 1 in every 300 \\ne-mail messages holds a variation of the Klez virus, and says that \\nKlez has already surpassed last summer's SirCam as the most prolific \\nvirus ever.\\n\\nAnd some newer Klez variants aren't merely nuisances--they can carry \\nother viruses in them that corrupt your data.\\n\\n...\\n\\nhttp://www.pcworld.com/news/article/0,aid,103259,00.asp\\n_______________________________________________\\nIrregulars mailing list\\nIrregulars@tb.tf\\nhttp://tb.tf/mailman/listinfo/irregulars\""
      ]
     },
     "execution_count": 12,
     "metadata": {},
     "output_type": "execute_result"
    }
   ],
   "source": [
    "ham_emails[10].get_content().strip()"
   ]
  },
  {
   "cell_type": "code",
   "execution_count": 13,
   "metadata": {},
   "outputs": [
    {
     "name": "stdout",
     "output_type": "stream",
     "text": [
      "Return-Path : <irregulars-admin@tb.tf>\n",
      "Delivered-To : zzzz@localhost.netnoteinc.com\n",
      "Received : from localhost (localhost [127.0.0.1])\tby phobos.labs.netnoteinc.com (Postfix) with ESMTP id 9DAE147C66\tfor <zzzz@localhost>; Thu, 22 Aug 2002 09:23:38 -0400 (EDT)\n",
      "Received : from phobos [127.0.0.1]\tby localhost with IMAP (fetchmail-5.9.0)\tfor zzzz@localhost (single-drop); Thu, 22 Aug 2002 14:23:38 +0100 (IST)\n",
      "Received : from web.tb.tf (route-64-131-126-36.telocity.com    [64.131.126.36]) by dogma.slashnull.org (8.11.6/8.11.6) with ESMTP id    g7MDGOZ07922 for <zzzz-irr@spamassassin.taint.org>; Thu, 22 Aug 2002 14:16:24 +0100\n",
      "Received : from web.tb.tf (localhost.localdomain [127.0.0.1]) by web.tb.tf    (8.11.6/8.11.6) with ESMTP id g7MDP9I16418; Thu, 22 Aug 2002 09:25:09    -0400\n",
      "Received : from red.harvee.home (red [192.168.25.1] (may be forged)) by    web.tb.tf (8.11.6/8.11.6) with ESMTP id g7MDO4I16408 for    <irregulars@tb.tf>; Thu, 22 Aug 2002 09:24:04 -0400\n",
      "Received : from prserv.net (out4.prserv.net [32.97.166.34]) by    red.harvee.home (8.11.6/8.11.6) with ESMTP id g7MDFBD29237 for    <irregulars@tb.tf>; Thu, 22 Aug 2002 09:15:12 -0400\n",
      "Received : from [209.202.248.109]    (slip-32-103-249-10.ma.us.prserv.net[32.103.249.10]) by prserv.net (out4)    with ESMTP id <2002082213150220405qu8jce>; Thu, 22 Aug 2002 13:15:07 +0000\n",
      "MIME-Version : 1.0\n",
      "X-Sender : @ (Unverified)\n",
      "Message-Id : <p04330137b98a941c58a8@[209.202.248.109]>\n",
      "To : undisclosed-recipient:;\n",
      "From : Monty Solomon <monty@roscom.com>\n",
      "Content-Type : text/plain; charset=\"us-ascii\"\n",
      "Subject : [IRR] Klez: The Virus That  Won't Die\n",
      "Sender : irregulars-admin@tb.tf\n",
      "Errors-To : irregulars-admin@tb.tf\n",
      "X-Beenthere : irregulars@tb.tf\n",
      "X-Mailman-Version : 2.0.6\n",
      "Precedence : bulk\n",
      "List-Help : <mailto:irregulars-request@tb.tf?subject=help>\n",
      "List-Post : <mailto:irregulars@tb.tf>\n",
      "List-Subscribe : <http://tb.tf/mailman/listinfo/irregulars>,    <mailto:irregulars-request@tb.tf?subject=subscribe>\n",
      "List-Id : New home of the TBTF Irregulars mailing list <irregulars.tb.tf>\n",
      "List-Unsubscribe : <http://tb.tf/mailman/listinfo/irregulars>,    <mailto:irregulars-request@tb.tf?subject=unsubscribe>\n",
      "List-Archive : <http://tb.tf/mailman/private/irregulars/>\n",
      "Date : Thu, 22 Aug 2002 09:15:25 -0400\n"
     ]
    }
   ],
   "source": [
    "# get email headers\n",
    "for header, value in ham_emails[10].items():\n",
    "    print(header,\":\",value)"
   ]
  },
  {
   "cell_type": "markdown",
   "metadata": {},
   "source": [
    "Some emails have a more complex structure: they are multiparts, made with text, images and attachements. To analyse their structure, we will use the following functions from the book 'Hands-On Machine Learning with Scikit-Learn, Keras, and TensorFlow' by A. Geron."
   ]
  },
  {
   "cell_type": "code",
   "execution_count": 14,
   "metadata": {},
   "outputs": [],
   "source": [
    "from collections import Counter\n",
    "\n",
    "def get_email_structure(email):\n",
    "    if isinstance(email, str):\n",
    "        return email\n",
    "    payload = email.get_payload()\n",
    "    if isinstance(payload, list):\n",
    "        return \"multipart({})\".format(\", \".join([\n",
    "            get_email_structure(sub_email)\n",
    "            for sub_email in payload\n",
    "        ]))\n",
    "    else:\n",
    "        return email.get_content_type()\n",
    "    \n",
    "\n",
    "def structures_counter(emails):\n",
    "    structures = Counter()\n",
    "    for email in emails:\n",
    "        structure = get_email_structure(email)\n",
    "        structures[structure] += 1\n",
    "    return structures"
   ]
  },
  {
   "cell_type": "code",
   "execution_count": 15,
   "metadata": {},
   "outputs": [
    {
     "data": {
      "text/plain": [
       "[('text/plain', 3832),\n",
       " ('text/html', 120),\n",
       " ('multipart(text/plain, application/pgp-signature)', 101),\n",
       " ('multipart(text/plain, text/html)', 63),\n",
       " ('multipart(text/plain, text/plain)', 5),\n",
       " ('multipart(text/plain)', 3),\n",
       " ('multipart(text/plain, application/ms-tnef, text/plain)', 2),\n",
       " ('multipart(text/plain, application/x-pkcs7-signature)', 2),\n",
       " ('multipart(text/html)', 2),\n",
       " ('multipart(text/plain, multipart(text/plain))', 2),\n",
       " ('multipart(text/plain, application/octet-stream)', 2),\n",
       " ('multipart(text/plain, multipart(text/plain, text/plain), text/rfc822-headers)',\n",
       "  2),\n",
       " ('multipart(text/plain, image/bmp)', 1),\n",
       " ('multipart(text/plain, text/enriched)', 1),\n",
       " ('multipart(multipart(text/plain, text/html))', 1),\n",
       " ('multipart(text/plain, image/png, image/png)', 1),\n",
       " ('multipart(multipart(text/plain, text/html), image/gif, image/gif, image/gif, image/gif, image/gif, image/gif, image/gif, image/gif, image/gif, image/gif, image/gif, image/jpeg, image/gif, image/gif, image/gif, image/gif, image/gif, image/gif)',\n",
       "  1),\n",
       " ('multipart(text/plain, application/x-patch)', 1),\n",
       " ('multipart(multipart(text/plain, multipart(text/plain), text/plain), application/pgp-signature)',\n",
       "  1),\n",
       " ('multipart(multipart(text/plain, text/html), image/jpeg, image/gif, image/gif, image/gif, image/gif)',\n",
       "  1),\n",
       " ('multipart(multipart(text/plain, text/plain, text/plain), application/pgp-signature)',\n",
       "  1),\n",
       " ('multipart(text/plain, application/ms-tnef)', 1),\n",
       " ('multipart(text/plain, video/mng)', 1),\n",
       " ('multipart(text/plain, text/plain, text/plain)', 1),\n",
       " ('multipart(text/plain, multipart(text/plain, text/plain), multipart(multipart(text/plain, application/x-pkcs7-signature)))',\n",
       "  1),\n",
       " ('multipart(text/plain, application/x-java-applet)', 1)]"
      ]
     },
     "execution_count": 15,
     "metadata": {},
     "output_type": "execute_result"
    }
   ],
   "source": [
    "structures_counter(ham_emails).most_common()"
   ]
  },
  {
   "cell_type": "code",
   "execution_count": 16,
   "metadata": {},
   "outputs": [
    {
     "data": {
      "text/plain": [
       "[('text/plain', 816),\n",
       " ('text/html', 772),\n",
       " ('multipart(text/plain, text/html)', 159),\n",
       " ('multipart(text/html)', 49),\n",
       " ('multipart(text/plain)', 44),\n",
       " ('multipart(multipart(text/html))', 23),\n",
       " ('multipart(multipart(text/plain, text/html))', 5),\n",
       " ('multipart(text/plain, application/octet-stream, text/plain)', 3),\n",
       " ('multipart(text/plain, application/octet-stream)', 3),\n",
       " ('multipart(text/html, text/plain)', 3),\n",
       " ('multipart(text/plain, image/jpeg)', 3),\n",
       " ('multipart(text/html, application/octet-stream)', 2),\n",
       " ('multipart/alternative', 2),\n",
       " ('multipart(text/html, image/jpeg)', 2),\n",
       " ('multipart(multipart(text/plain), application/octet-stream)', 2),\n",
       " ('multipart(text/plain, multipart(text/plain))', 1),\n",
       " ('multipart(multipart(text/plain, text/html), image/jpeg, image/jpeg, image/jpeg, image/jpeg, image/jpeg)',\n",
       "  1),\n",
       " ('multipart(multipart(text/plain, text/html), image/jpeg, image/jpeg, image/jpeg, image/jpeg, image/gif)',\n",
       "  1),\n",
       " ('text/plain charset=us-ascii', 1),\n",
       " ('multipart(multipart(text/html), application/octet-stream, image/jpeg)', 1),\n",
       " ('multipart(multipart(text/plain, text/html), image/gif)', 1),\n",
       " ('multipart(multipart(text/html), image/gif)', 1),\n",
       " ('multipart(multipart(text/plain, text/html), application/octet-stream, application/octet-stream, application/octet-stream, application/octet-stream)',\n",
       "  1),\n",
       " ('multipart(multipart(text/plain, text/html), image/gif, image/jpeg)', 1)]"
      ]
     },
     "execution_count": 16,
     "metadata": {},
     "output_type": "execute_result"
    }
   ],
   "source": [
    "structures_counter(spam_emails).most_common()"
   ]
  },
  {
   "cell_type": "markdown",
   "metadata": {},
   "source": [
    " ## Process the data"
   ]
  },
  {
   "cell_type": "markdown",
   "metadata": {},
   "source": [
    "Now that we know the structure of the data, we can transform them in order to train the spam classfiers.\n",
    "\n",
    "First, we split the data into a train and a test set."
   ]
  },
  {
   "cell_type": "code",
   "execution_count": 17,
   "metadata": {},
   "outputs": [],
   "source": [
    "X = np.array(ham_emails + spam_emails, dtype=object)\n",
    "y = np.array([0] * len(ham_emails) + [1] * len(spam_emails))\n",
    "\n",
    "X_train, X_test, y_train, y_test = train_test_split(X, y, test_size=0.2, random_state=42)"
   ]
  },
  {
   "cell_type": "markdown",
   "metadata": {},
   "source": [
    "We will use `preprocess.py` script to transform data. \n",
    "The script runs a Preprocess Pipeline : first the emails get cleaned and trasnformed in plain text, then each word in the email gets vectorized."
   ]
  },
  {
   "cell_type": "code",
   "execution_count": 18,
   "metadata": {},
   "outputs": [],
   "source": [
    "sys.path.append('./preprocess.py')\n",
    "from preprocess import process_emails\n",
    "\n",
    "X_train_processed = process_emails.fit_transform(X_train)\n",
    "X_test_processed = process_emails.transform(X_test)"
   ]
  },
  {
   "cell_type": "code",
   "execution_count": 19,
   "metadata": {},
   "outputs": [
    {
     "name": "stdout",
     "output_type": "stream",
     "text": [
      "(4837, 53203)\n",
      "(1210, 53203)\n"
     ]
    }
   ],
   "source": [
    "print(X_train_processed.shape)\n",
    "print(X_test_processed.shape)"
   ]
  },
  {
   "cell_type": "markdown",
   "metadata": {},
   "source": [
    "## Classifiers"
   ]
  },
  {
   "cell_type": "markdown",
   "metadata": {},
   "source": [
    "The classifier that we are going to train and evaluate are:\n",
    "\n",
    "- [SGDClassifier](https://scikit-learn.org/stable/modules/generated/sklearn.linear_model.SGDClassifier.html)\n",
    "- [MLPClassifier](https://scikit-learn.org/stable/modules/generated/sklearn.neural_network.MLPClassifier.html)\n",
    "- [DecisionTreeClassifier](https://scikit-learn.org/stable/modules/generated/sklearn.tree.DecisionTreeClassifier.html#sklearn.tree.DecisionTreeClassifier)\n",
    "- [RandomForestClassifier](https://scikit-learn.org/stable/modules/generated/sklearn.ensemble.RandomForestClassifier.html#sklearn.ensemble.RandomForestClassifier)\n",
    "- [AdaBoostClassfier](https://scikit-learn.org/stable/modules/generated/sklearn.ensemble.AdaBoostClassifier.html#sklearn.ensemble.AdaBoostClassifier)\n",
    "- [KNNClassifier](https://scikit-learn.org/stable/modules/generated/sklearn.neighbors.KNeighborsClassifier.html#sklearn.neighbors.KNeighborsClassifier)\n",
    "- [NaiveBayes](https://scikit-learn.org/stable/modules/generated/sklearn.naive_bayes.GaussianNB.html#sklearn.naive_bayes.GaussianNB)\n",
    "- [(Linear) SVM](https://scikit-learn.org/stable/modules/generated/sklearn.svm.SVC.html)\n",
    "\n",
    "\n",
    "Each of the classfier will be trained using a *3-fold cross validation*. Then, we will evaluate the **confusion matrix, precision, recall and f1-score**. We will also plot the *precision* vs *recall curve*,  *ROC curve* and calculate the *ROC AUC*.\n",
    "\n",
    "Finally, we will pick the classifier with the highest recall and precision. \n",
    "\n",
    "To achieve this, we first need to import the python scripts `classifiers.py` and `evaluation.py`, which contains the functions to define, train and evaluate the classifiers."
   ]
  },
  {
   "cell_type": "code",
   "execution_count": 20,
   "metadata": {},
   "outputs": [],
   "source": [
    "sys.path.append('./classifiers.py')\n",
    "from classifiers import Classifiers"
   ]
  },
  {
   "cell_type": "code",
   "execution_count": 21,
   "metadata": {},
   "outputs": [],
   "source": [
    "clfs = Classifiers()"
   ]
  },
  {
   "cell_type": "markdown",
   "metadata": {},
   "source": [
    "Let's make predictions for each model"
   ]
  },
  {
   "cell_type": "code",
   "execution_count": 22,
   "metadata": {},
   "outputs": [
    {
     "name": "stdout",
     "output_type": "stream",
     "text": [
      "SGD: done!\n",
      "MLP: done!\n",
      "Decision Tree: done!\n",
      "Random Forest: done!\n",
      "AdaBoost: done!\n",
      "KNN: done!\n",
      "NB: done!\n",
      "SVM: done!\n"
     ]
    }
   ],
   "source": [
    "predictions = clfs.predict(X_train_processed.toarray(), y_train)"
   ]
  },
  {
   "cell_type": "code",
   "execution_count": 23,
   "metadata": {},
   "outputs": [
    {
     "data": {
      "text/plain": [
       "dict_keys(['SGD', 'MLP', 'Decision Tree', 'Random Forest', 'AdaBoost', 'KNN', 'NB', 'SVM'])"
      ]
     },
     "execution_count": 23,
     "metadata": {},
     "output_type": "execute_result"
    }
   ],
   "source": [
    "predictions.keys()"
   ]
  },
  {
   "cell_type": "markdown",
   "metadata": {},
   "source": [
    "### Evaluate classifiers\n",
    "We now evaluate each classifier. We will look at the following performance measures:\n",
    "\n",
    "* **confusion matrix**: how many times a spam email is classified as spam or as ham\n",
    "* **accuracy**: how many correct classifications\n",
    "* **precision**: accuracy of correct predictions, in other words TP/(TP + FP)\n",
    "* **recall**: the ratio of correct predictions, in other words TP/(TP + FN)\n",
    "* **f1 score**: the harmonic mean of precision and recall, in other words 2/(1/precision + 1/recall)\n",
    "\n",
    "where:\n",
    "\n",
    "* **TP**: No. of True positive, in our case how many spam emails are predicted as such\n",
    "* **FP**: No. of False positive, how many ham emails are predicted as spam\n",
    "* **FN**: No. of False negative, how many spam emails are predicted as ham"
   ]
  },
  {
   "cell_type": "code",
   "execution_count": 24,
   "metadata": {
    "scrolled": true
   },
   "outputs": [
    {
     "name": "stdout",
     "output_type": "stream",
     "text": [
      "SGD: done!\n",
      "MLP: done!\n",
      "Decision Tree: done!\n",
      "Random Forest: done!\n",
      "AdaBoost: done!\n",
      "KNN: done!\n",
      "NB: done!\n",
      "SVM: done!\n"
     ]
    }
   ],
   "source": [
    "evaluations = clfs.evaluate(y_train, predictions)"
   ]
  },
  {
   "cell_type": "code",
   "execution_count": 25,
   "metadata": {},
   "outputs": [
    {
     "name": "stdout",
     "output_type": "stream",
     "text": [
      "SGD:\n",
      "confusion matrix: \n",
      " [[3248   71]\n",
      " [  72 1446]]\n",
      "accuracy: 0.9704362207980153\n",
      "precision: 0.9531970995385629\n",
      "recall: 0.9525691699604744\n",
      "f1-score: 0.9528830313014828\n",
      "\n",
      "MLP:\n",
      "confusion matrix: \n",
      " [[3290   29]\n",
      " [  70 1448]]\n",
      "accuracy: 0.9795327682447799\n",
      "precision: 0.980365605958023\n",
      "recall: 0.9538866930171278\n",
      "f1-score: 0.9669449081803005\n",
      "\n",
      "Decision Tree:\n",
      "confusion matrix: \n",
      " [[3158  161]\n",
      " [ 123 1395]]\n",
      "accuracy: 0.941285921025429\n",
      "precision: 0.8965295629820051\n",
      "recall: 0.9189723320158103\n",
      "f1-score: 0.9076122316200391\n",
      "\n",
      "Random Forest:\n",
      "confusion matrix: \n",
      " [[3277   42]\n",
      " [ 191 1327]]\n",
      "accuracy: 0.9518296464750878\n",
      "precision: 0.9693206720233747\n",
      "recall: 0.8741765480895916\n",
      "f1-score: 0.9192933841357811\n",
      "\n",
      "AdaBoost:\n",
      "confusion matrix: \n",
      " [[3240   79]\n",
      " [  91 1427]]\n",
      "accuracy: 0.9648542485011371\n",
      "precision: 0.9475431606905711\n",
      "recall: 0.9400527009222661\n",
      "f1-score: 0.9437830687830687\n",
      "\n",
      "KNN:\n",
      "confusion matrix: \n",
      " [[3020  299]\n",
      " [ 169 1349]]\n",
      "accuracy: 0.9032458135207774\n",
      "precision: 0.8185679611650486\n",
      "recall: 0.88866930171278\n",
      "f1-score: 0.8521794061907771\n",
      "\n",
      "NB:\n",
      "confusion matrix: \n",
      " [[3177  142]\n",
      " [ 258 1260]]\n",
      "accuracy: 0.9173041141203225\n",
      "precision: 0.8987161198288159\n",
      "recall: 0.8300395256916996\n",
      "f1-score: 0.8630136986301369\n",
      "\n",
      "SVM:\n",
      "confusion matrix: \n",
      " [[3289   30]\n",
      " [1037  481]]\n",
      "accuracy: 0.7794087244159603\n",
      "precision: 0.9412915851272016\n",
      "recall: 0.3168642951251647\n",
      "f1-score: 0.4741251848201084\n",
      "\n"
     ]
    }
   ],
   "source": [
    "for clf_name in evaluations.keys():\n",
    "    print(\"{}:\".format(clf_name))\n",
    "    print(\"confusion matrix: \\n {}\".format(evaluations[clf_name]['confusion_matrix']))\n",
    "    print(\"accuracy: {}\".format(evaluations[clf_name]['accuracy_score']))\n",
    "    print(\"precision: {}\".format(evaluations[clf_name]['precision_score']))\n",
    "    print(\"recall: {}\".format(evaluations[clf_name]['recall_score']))\n",
    "    print(\"f1-score: {}\".format(evaluations[clf_name]['f1_score']))\n",
    "    print()"
   ]
  },
  {
   "cell_type": "markdown",
   "metadata": {},
   "source": [
    "From the above data, the most promising model seems to be **MLP**, while the least promising seems **SVM**. \n",
    "\n",
    "To select a model with a good precision/recall trade-off, we are going to look at the _precision versus recall_ curve.  We will also plot the threshold."
   ]
  },
  {
   "cell_type": "code",
   "execution_count": 26,
   "metadata": {},
   "outputs": [],
   "source": [
    "sys.path.append('./curves.py')\n",
    "from curves import PlotCurves"
   ]
  },
  {
   "cell_type": "code",
   "execution_count": 27,
   "metadata": {},
   "outputs": [],
   "source": [
    "plot_curves = PlotCurves(predictions, X_train_processed.toarray(), y_train)"
   ]
  },
  {
   "cell_type": "code",
   "execution_count": 28,
   "metadata": {},
   "outputs": [
    {
     "data": {
      "image/png": "[encoded data removed]",
      "text/plain": [
       "<Figure size 432x288 with 1 Axes>"
      ]
     },
     "metadata": {
      "needs_background": "light"
     },
     "output_type": "display_data"
    }
   ],
   "source": [
    "plot_curves.precision_vs_recall(clf_list = 'all', thr = 'default')"
   ]
  },
  {
   "cell_type": "markdown",
   "metadata": {},
   "source": [
    "The plot above shows that most of the classifiers have the best recall/precision trade-off at the default thresholds at 0. Instead, SVM and NB seem to have a better trade-off at around 0.9 precision/recall. Increasing the threshold for SVM we obtain the following:"
   ]
  },
  {
   "cell_type": "code",
   "execution_count": 29,
   "metadata": {},
   "outputs": [
    {
     "data": {
      "image/png": "[encoded data removed]",
      "text/plain": [
       "<Figure size 432x288 with 1 Axes>"
      ]
     },
     "metadata": {
      "needs_background": "light"
     },
     "output_type": "display_data"
    },
    {
     "data": {
      "image/png": "[encoded data removed]",
      "text/plain": [
       "<Figure size 432x288 with 1 Axes>"
      ]
     },
     "metadata": {
      "needs_background": "light"
     },
     "output_type": "display_data"
    }
   ],
   "source": [
    "# in curves.py use  `threshold = thresholds[np.argmax((recalls <= 0.9))]` instead of 0\n",
    "plot_curves.precision_vs_recall(['SVM'], thr='best')\n",
    "plot_curves.precision_vs_recall(['NB'], thr='best')"
   ]
  },
  {
   "cell_type": "markdown",
   "metadata": {},
   "source": [
    "Finally, let's look at the **ROC curve** (receiver operating characterist curve) for each classifier. This curve plots the recall (also called *sensitivity*) against the false positive rate (also called *specificity*)."
   ]
  },
  {
   "cell_type": "code",
   "execution_count": 30,
   "metadata": {},
   "outputs": [
    {
     "data": {
      "image/png": "[encoded data removed]",
      "text/plain": [
       "<Figure size 432x288 with 1 Axes>"
      ]
     },
     "metadata": {
      "needs_background": "light"
     },
     "output_type": "display_data"
    }
   ],
   "source": [
    "plot_curves.roc_curve(clf_list = 'all', thr = 'default')"
   ]
  },
  {
   "cell_type": "markdown",
   "metadata": {},
   "source": [
    "To compare classifiers using the ROC curve, it is common to compute the **AUC**, the *area under the curve*: better the classifier, more the AUC tends to 1: "
   ]
  },
  {
   "cell_type": "code",
   "execution_count": 31,
   "metadata": {},
   "outputs": [
    {
     "name": "stdout",
     "output_type": "stream",
     "text": [
      "ROC AUC scores:\n",
      "SGD: 0.9896164177901737\n",
      "MLP: 0.9887220582099867\n",
      "Decision Tree: 0.9325490915283545\n",
      "Random Forest: 0.9872819725610639\n",
      "AdaBoost: 0.9912840629727592\n",
      "KNN: 0.9469695977287316\n",
      "NB: 0.8936277773080373\n",
      "SVM: 0.9524506762477863\n"
     ]
    }
   ],
   "source": [
    "plot_curves.roc_auc_score(clf_list = 'all')"
   ]
  },
  {
   "cell_type": "markdown",
   "metadata": {},
   "source": [
    "From the above data, the most promising classifiers are:\n",
    "* MLP\n",
    "* AdaBoost\n",
    "* SGD"
   ]
  },
  {
   "cell_type": "markdown",
   "metadata": {},
   "source": [
    "### Fine-tune classifiers"
   ]
  },
  {
   "cell_type": "markdown",
   "metadata": {},
   "source": [
    "Now that we have a shortlist of promising models we can fine-tune them before picking the 'best'.\n",
    "\n",
    "To fine tune the models we will use either **Grid** or **Randomized** search (according to the model), and then evaluate them on the test data before choosing one."
   ]
  },
  {
   "cell_type": "code",
   "execution_count": 32,
   "metadata": {},
   "outputs": [
    {
     "name": "stdout",
     "output_type": "stream",
     "text": [
      "Fitting 5 folds for each of 9 candidates, totalling 45 fits\n",
      "[CV] activation=relu, hidden_layer_sizes=(16,) .......................\n"
     ]
    },
    {
     "name": "stderr",
     "output_type": "stream",
     "text": [
      "[Parallel(n_jobs=1)]: Using backend SequentialBackend with 1 concurrent workers.\n"
     ]
    },
    {
     "name": "stdout",
     "output_type": "stream",
     "text": [
      "[CV] ........ activation=relu, hidden_layer_sizes=(16,), total=  18.7s\n",
      "[CV] activation=relu, hidden_layer_sizes=(16,) .......................\n"
     ]
    },
    {
     "name": "stderr",
     "output_type": "stream",
     "text": [
      "[Parallel(n_jobs=1)]: Done   1 out of   1 | elapsed:   18.7s remaining:    0.0s\n"
     ]
    },
    {
     "name": "stdout",
     "output_type": "stream",
     "text": [
      "[CV] ........ activation=relu, hidden_layer_sizes=(16,), total=  16.4s\n",
      "[CV] activation=relu, hidden_layer_sizes=(16,) .......................\n",
      "[CV] ........ activation=relu, hidden_layer_sizes=(16,), total=  14.3s\n",
      "[CV] activation=relu, hidden_layer_sizes=(16,) .......................\n",
      "[CV] ........ activation=relu, hidden_layer_sizes=(16,), total=  15.0s\n",
      "[CV] activation=relu, hidden_layer_sizes=(16,) .......................\n",
      "[CV] ........ activation=relu, hidden_layer_sizes=(16,), total=  13.4s\n",
      "[CV] activation=relu, hidden_layer_sizes=(16, 16) ....................\n",
      "[CV] ..... activation=relu, hidden_layer_sizes=(16, 16), total=  14.6s\n",
      "[CV] activation=relu, hidden_layer_sizes=(16, 16) ....................\n",
      "[CV] ..... activation=relu, hidden_layer_sizes=(16, 16), total=  10.7s\n",
      "[CV] activation=relu, hidden_layer_sizes=(16, 16) ....................\n",
      "[CV] ..... activation=relu, hidden_layer_sizes=(16, 16), total=  12.7s\n",
      "[CV] activation=relu, hidden_layer_sizes=(16, 16) ....................\n",
      "[CV] ..... activation=relu, hidden_layer_sizes=(16, 16), total=  16.0s\n",
      "[CV] activation=relu, hidden_layer_sizes=(16, 16) ....................\n",
      "[CV] ..... activation=relu, hidden_layer_sizes=(16, 16), total=  11.0s\n",
      "[CV] activation=relu, hidden_layer_sizes=(32,) .......................\n",
      "[CV] ........ activation=relu, hidden_layer_sizes=(32,), total=  29.8s\n",
      "[CV] activation=relu, hidden_layer_sizes=(32,) .......................\n",
      "[CV] ........ activation=relu, hidden_layer_sizes=(32,), total=  38.3s\n",
      "[CV] activation=relu, hidden_layer_sizes=(32,) .......................\n",
      "[CV] ........ activation=relu, hidden_layer_sizes=(32,), total=  35.8s\n",
      "[CV] activation=relu, hidden_layer_sizes=(32,) .......................\n",
      "[CV] ........ activation=relu, hidden_layer_sizes=(32,), total=  33.9s\n",
      "[CV] activation=relu, hidden_layer_sizes=(32,) .......................\n",
      "[CV] ........ activation=relu, hidden_layer_sizes=(32,), total=  28.1s\n",
      "[CV] activation=tanh, hidden_layer_sizes=(16,) .......................\n",
      "[CV] ........ activation=tanh, hidden_layer_sizes=(16,), total=  17.9s\n",
      "[CV] activation=tanh, hidden_layer_sizes=(16,) .......................\n",
      "[CV] ........ activation=tanh, hidden_layer_sizes=(16,), total=  12.3s\n",
      "[CV] activation=tanh, hidden_layer_sizes=(16,) .......................\n",
      "[CV] ........ activation=tanh, hidden_layer_sizes=(16,), total=  19.3s\n",
      "[CV] activation=tanh, hidden_layer_sizes=(16,) .......................\n",
      "[CV] ........ activation=tanh, hidden_layer_sizes=(16,), total=  13.9s\n",
      "[CV] activation=tanh, hidden_layer_sizes=(16,) .......................\n",
      "[CV] ........ activation=tanh, hidden_layer_sizes=(16,), total=  13.0s\n",
      "[CV] activation=tanh, hidden_layer_sizes=(16, 16) ....................\n",
      "[CV] ..... activation=tanh, hidden_layer_sizes=(16, 16), total=  20.1s\n",
      "[CV] activation=tanh, hidden_layer_sizes=(16, 16) ....................\n",
      "[CV] ..... activation=tanh, hidden_layer_sizes=(16, 16), total=  23.2s\n",
      "[CV] activation=tanh, hidden_layer_sizes=(16, 16) ....................\n",
      "[CV] ..... activation=tanh, hidden_layer_sizes=(16, 16), total=  17.0s\n",
      "[CV] activation=tanh, hidden_layer_sizes=(16, 16) ....................\n",
      "[CV] ..... activation=tanh, hidden_layer_sizes=(16, 16), total=  14.1s\n",
      "[CV] activation=tanh, hidden_layer_sizes=(16, 16) ....................\n",
      "[CV] ..... activation=tanh, hidden_layer_sizes=(16, 16), total=  14.3s\n",
      "[CV] activation=tanh, hidden_layer_sizes=(32,) .......................\n",
      "[CV] ........ activation=tanh, hidden_layer_sizes=(32,), total=  45.8s\n",
      "[CV] activation=tanh, hidden_layer_sizes=(32,) .......................\n",
      "[CV] ........ activation=tanh, hidden_layer_sizes=(32,), total=  39.9s\n",
      "[CV] activation=tanh, hidden_layer_sizes=(32,) .......................\n",
      "[CV] ........ activation=tanh, hidden_layer_sizes=(32,), total=  50.7s\n",
      "[CV] activation=tanh, hidden_layer_sizes=(32,) .......................\n",
      "[CV] ........ activation=tanh, hidden_layer_sizes=(32,), total=  45.3s\n",
      "[CV] activation=tanh, hidden_layer_sizes=(32,) .......................\n",
      "[CV] ........ activation=tanh, hidden_layer_sizes=(32,), total=  31.0s\n",
      "[CV] activation=logistic, hidden_layer_sizes=(16,) ...................\n",
      "[CV] .... activation=logistic, hidden_layer_sizes=(16,), total=  35.7s\n",
      "[CV] activation=logistic, hidden_layer_sizes=(16,) ...................\n",
      "[CV] .... activation=logistic, hidden_layer_sizes=(16,), total=  23.9s\n",
      "[CV] activation=logistic, hidden_layer_sizes=(16,) ...................\n",
      "[CV] .... activation=logistic, hidden_layer_sizes=(16,), total=  27.9s\n",
      "[CV] activation=logistic, hidden_layer_sizes=(16,) ...................\n",
      "[CV] .... activation=logistic, hidden_layer_sizes=(16,), total=  29.3s\n",
      "[CV] activation=logistic, hidden_layer_sizes=(16,) ...................\n",
      "[CV] .... activation=logistic, hidden_layer_sizes=(16,), total=  24.8s\n",
      "[CV] activation=logistic, hidden_layer_sizes=(16, 16) ................\n",
      "[CV] . activation=logistic, hidden_layer_sizes=(16, 16), total=  31.5s\n",
      "[CV] activation=logistic, hidden_layer_sizes=(16, 16) ................\n",
      "[CV] . activation=logistic, hidden_layer_sizes=(16, 16), total=  35.1s\n",
      "[CV] activation=logistic, hidden_layer_sizes=(16, 16) ................\n",
      "[CV] . activation=logistic, hidden_layer_sizes=(16, 16), total=  33.3s\n",
      "[CV] activation=logistic, hidden_layer_sizes=(16, 16) ................\n",
      "[CV] . activation=logistic, hidden_layer_sizes=(16, 16), total=  32.4s\n",
      "[CV] activation=logistic, hidden_layer_sizes=(16, 16) ................\n",
      "[CV] . activation=logistic, hidden_layer_sizes=(16, 16), total=  26.3s\n",
      "[CV] activation=logistic, hidden_layer_sizes=(32,) ...................\n",
      "[CV] .... activation=logistic, hidden_layer_sizes=(32,), total=  45.4s\n",
      "[CV] activation=logistic, hidden_layer_sizes=(32,) ...................\n",
      "[CV] .... activation=logistic, hidden_layer_sizes=(32,), total=  50.0s\n",
      "[CV] activation=logistic, hidden_layer_sizes=(32,) ...................\n",
      "[CV] .... activation=logistic, hidden_layer_sizes=(32,), total=  50.0s\n",
      "[CV] activation=logistic, hidden_layer_sizes=(32,) ...................\n",
      "[CV] .... activation=logistic, hidden_layer_sizes=(32,), total=  50.6s\n",
      "[CV] activation=logistic, hidden_layer_sizes=(32,) ...................\n",
      "[CV] .... activation=logistic, hidden_layer_sizes=(32,), total=  45.8s\n"
     ]
    },
    {
     "name": "stderr",
     "output_type": "stream",
     "text": [
      "[Parallel(n_jobs=1)]: Done  45 out of  45 | elapsed: 20.5min finished\n"
     ]
    },
    {
     "data": {
      "text/plain": [
       "GridSearchCV(cv=5, error_score='raise-deprecating',\n",
       "             estimator=MLPClassifier(activation='relu', alpha=0.0001,\n",
       "                                     batch_size='auto', beta_1=0.9,\n",
       "                                     beta_2=0.999, early_stopping=False,\n",
       "                                     epsilon=1e-08, hidden_layer_sizes=(100,),\n",
       "                                     learning_rate='constant',\n",
       "                                     learning_rate_init=0.001, max_iter=200,\n",
       "                                     momentum=0.9, n_iter_no_change=10,\n",
       "                                     nesterovs_momentum=True, power_t=0.5,\n",
       "                                     random_state=None, shuffle=True,\n",
       "                                     solver='adam', tol=0.0001,\n",
       "                                     validation_fraction=0.1, verbose=False,\n",
       "                                     warm_start=False),\n",
       "             iid='warn', n_jobs=None,\n",
       "             param_grid={'activation': ['relu', 'tanh', 'logistic'],\n",
       "                         'hidden_layer_sizes': [(16,), (16, 16), (32,)]},\n",
       "             pre_dispatch='2*n_jobs', refit=True, return_train_score=False,\n",
       "             scoring='f1', verbose=2)"
      ]
     },
     "execution_count": 32,
     "metadata": {},
     "output_type": "execute_result"
    }
   ],
   "source": [
    "# Fine tune MLP\n",
    "from sklearn.neural_network import MLPClassifier\n",
    "from sklearn.model_selection import GridSearchCV\n",
    "\n",
    "\n",
    "mlp_best = MLPClassifier()\n",
    "# param to test\n",
    "mlp_param_grid = {\n",
    "    'hidden_layer_sizes': [(16,), (16, 16), (32,)],\n",
    "    'activation': ['relu', 'tanh', 'logistic']\n",
    "}\n",
    "\n",
    "# search the best params for adaboost\n",
    "mlp_grid_search = GridSearchCV(mlp_best, mlp_param_grid, 'f1', cv=5, verbose=2)\n",
    "mlp_grid_search.fit(X_train_processed, y_train)"
   ]
  },
  {
   "cell_type": "code",
   "execution_count": 33,
   "metadata": {},
   "outputs": [
    {
     "name": "stdout",
     "output_type": "stream",
     "text": [
      "Fitting 5 folds for each of 4 candidates, totalling 20 fits\n"
     ]
    },
    {
     "name": "stderr",
     "output_type": "stream",
     "text": [
      "[Parallel(n_jobs=1)]: Using backend SequentialBackend with 1 concurrent workers.\n",
      "[Parallel(n_jobs=1)]: Done  20 out of  20 | elapsed:  3.3min finished\n"
     ]
    },
    {
     "data": {
      "text/plain": [
       "GridSearchCV(cv=5, error_score='raise-deprecating',\n",
       "             estimator=AdaBoostClassifier(algorithm='SAMME.R',\n",
       "                                          base_estimator=None,\n",
       "                                          learning_rate=1.0, n_estimators=50,\n",
       "                                          random_state=None),\n",
       "             iid='warn', n_jobs=None,\n",
       "             param_grid={'n_estimators': [10, 30, 50, 100]},\n",
       "             pre_dispatch='2*n_jobs', refit=True, return_train_score=False,\n",
       "             scoring='f1', verbose=1)"
      ]
     },
     "execution_count": 33,
     "metadata": {},
     "output_type": "execute_result"
    }
   ],
   "source": [
    "# Fine tune AdaBoost\n",
    "from sklearn.ensemble import AdaBoostClassifier\n",
    "\n",
    "adaboost_best = AdaBoostClassifier()\n",
    "# param to test\n",
    "adaboost_param_grid = {\n",
    "    'n_estimators': [10, 30, 50, 100]\n",
    "}\n",
    "\n",
    "# search the best params for mlp\n",
    "adaboost_grid_search = GridSearchCV(adaboost_best, adaboost_param_grid, 'f1', cv=5, verbose=1)\n",
    "adaboost_grid_search.fit(X_train_processed, y_train)"
   ]
  },
  {
   "cell_type": "code",
   "execution_count": 34,
   "metadata": {},
   "outputs": [
    {
     "name": "stdout",
     "output_type": "stream",
     "text": [
      "Fitting 5 folds for each of 5 candidates, totalling 25 fits\n",
      "[CV] penalty=l2, n_jobs=-1, alpha=1e-06 ..............................\n",
      "[CV] ............... penalty=l2, n_jobs=-1, alpha=1e-06, total=   0.1s\n",
      "[CV] penalty=l2, n_jobs=-1, alpha=1e-06 ..............................\n",
      "[CV] ............... penalty=l2, n_jobs=-1, alpha=1e-06, total=   0.0s\n",
      "[CV] penalty=l2, n_jobs=-1, alpha=1e-06 ..............................\n",
      "[CV] ............... penalty=l2, n_jobs=-1, alpha=1e-06, total=   0.0s\n",
      "[CV] penalty=l2, n_jobs=-1, alpha=1e-06 ..............................\n"
     ]
    },
    {
     "name": "stderr",
     "output_type": "stream",
     "text": [
      "[Parallel(n_jobs=1)]: Using backend SequentialBackend with 1 concurrent workers.\n",
      "[Parallel(n_jobs=1)]: Done   1 out of   1 | elapsed:    0.1s remaining:    0.0s\n"
     ]
    },
    {
     "name": "stdout",
     "output_type": "stream",
     "text": [
      "[CV] ............... penalty=l2, n_jobs=-1, alpha=1e-06, total=   0.1s\n",
      "[CV] penalty=l2, n_jobs=-1, alpha=1e-06 ..............................\n",
      "[CV] ............... penalty=l2, n_jobs=-1, alpha=1e-06, total=   0.1s\n",
      "[CV] penalty=l2, n_jobs=-1, alpha=0.01 ...............................\n",
      "[CV] ................ penalty=l2, n_jobs=-1, alpha=0.01, total=   0.0s\n",
      "[CV] penalty=l2, n_jobs=-1, alpha=0.01 ...............................\n",
      "[CV] ................ penalty=l2, n_jobs=-1, alpha=0.01, total=   0.0s\n",
      "[CV] penalty=l2, n_jobs=-1, alpha=0.01 ...............................\n",
      "[CV] ................ penalty=l2, n_jobs=-1, alpha=0.01, total=   0.0s\n",
      "[CV] penalty=l2, n_jobs=-1, alpha=0.01 ...............................\n",
      "[CV] ................ penalty=l2, n_jobs=-1, alpha=0.01, total=   0.0s\n",
      "[CV] penalty=l2, n_jobs=-1, alpha=0.01 ...............................\n",
      "[CV] ................ penalty=l2, n_jobs=-1, alpha=0.01, total=   0.0s\n",
      "[CV] penalty=l2, n_jobs=-1, alpha=1e-07 ..............................\n",
      "[CV] ............... penalty=l2, n_jobs=-1, alpha=1e-07, total=   0.1s\n",
      "[CV] penalty=l2, n_jobs=-1, alpha=1e-07 ..............................\n",
      "[CV] ............... penalty=l2, n_jobs=-1, alpha=1e-07, total=   0.1s\n",
      "[CV] penalty=l2, n_jobs=-1, alpha=1e-07 ..............................\n",
      "[CV] ............... penalty=l2, n_jobs=-1, alpha=1e-07, total=   0.0s\n",
      "[CV] penalty=l2, n_jobs=-1, alpha=1e-07 ..............................\n",
      "[CV] ............... penalty=l2, n_jobs=-1, alpha=1e-07, total=   0.0s\n",
      "[CV] penalty=l2, n_jobs=-1, alpha=1e-07 ..............................\n",
      "[CV] ............... penalty=l2, n_jobs=-1, alpha=1e-07, total=   0.1s\n",
      "[CV] penalty=l2, n_jobs=-1, alpha=1.0 ................................\n",
      "[CV] ................. penalty=l2, n_jobs=-1, alpha=1.0, total=   0.0s\n",
      "[CV] penalty=l2, n_jobs=-1, alpha=1.0 ................................\n",
      "[CV] ................. penalty=l2, n_jobs=-1, alpha=1.0, total=   0.0s\n",
      "[CV] penalty=l2, n_jobs=-1, alpha=1.0 ................................\n",
      "[CV] ................. penalty=l2, n_jobs=-1, alpha=1.0, total=   0.0s\n",
      "[CV] penalty=l2, n_jobs=-1, alpha=1.0 ................................\n",
      "[CV] ................. penalty=l2, n_jobs=-1, alpha=1.0, total=   0.0s\n",
      "[CV] penalty=l2, n_jobs=-1, alpha=1.0 ................................\n",
      "[CV] ................. penalty=l2, n_jobs=-1, alpha=1.0, total=   0.0s\n",
      "[CV] penalty=l2, n_jobs=-1, alpha=1e-05 ..............................\n",
      "[CV] ............... penalty=l2, n_jobs=-1, alpha=1e-05, total=   0.1s\n",
      "[CV] penalty=l2, n_jobs=-1, alpha=1e-05 ..............................\n",
      "[CV] ............... penalty=l2, n_jobs=-1, alpha=1e-05, total=   0.0s\n",
      "[CV] penalty=l2, n_jobs=-1, alpha=1e-05 ..............................\n",
      "[CV] ............... penalty=l2, n_jobs=-1, alpha=1e-05, total=   0.1s\n",
      "[CV] penalty=l2, n_jobs=-1, alpha=1e-05 ..............................\n",
      "[CV] ............... penalty=l2, n_jobs=-1, alpha=1e-05, total=   0.1s\n",
      "[CV] penalty=l2, n_jobs=-1, alpha=1e-05 ..............................\n",
      "[CV] ............... penalty=l2, n_jobs=-1, alpha=1e-05, total=   0.1s\n"
     ]
    },
    {
     "name": "stderr",
     "output_type": "stream",
     "text": [
      "[Parallel(n_jobs=1)]: Done  25 out of  25 | elapsed:    1.1s finished\n"
     ]
    },
    {
     "data": {
      "text/plain": [
       "RandomizedSearchCV(cv=5, error_score='raise-deprecating',\n",
       "                   estimator=SGDClassifier(alpha=0.0001, average=False,\n",
       "                                           class_weight=None,\n",
       "                                           early_stopping=False, epsilon=0.1,\n",
       "                                           eta0=0.0, fit_intercept=True,\n",
       "                                           l1_ratio=0.15,\n",
       "                                           learning_rate='optimal',\n",
       "                                           loss='hinge', max_iter=1000,\n",
       "                                           n_iter_no_change=5, n_jobs=None,\n",
       "                                           penalty='l2', power_t=0.5,\n",
       "                                           random_state=None, shuffle=True,\n",
       "                                           tol=0.001, validation_fraction=0.1,\n",
       "                                           verbose=0, warm_start=False),\n",
       "                   iid='warn', n_iter=5, n_jobs=None,\n",
       "                   param_distributions={'alpha': [1e-07, 1e-06, 1e-05, 0.0001,\n",
       "                                                  0.001, 0.01, 0.1, 1.0],\n",
       "                                        'n_jobs': [-1], 'penalty': ['l2']},\n",
       "                   pre_dispatch='2*n_jobs', random_state=42, refit=True,\n",
       "                   return_train_score=False, scoring='f1', verbose=2)"
      ]
     },
     "execution_count": 34,
     "metadata": {},
     "output_type": "execute_result"
    }
   ],
   "source": [
    "# Fine tune SGD\n",
    "from sklearn.linear_model import SGDClassifier\n",
    "from sklearn.model_selection import RandomizedSearchCV\n",
    "\n",
    "\n",
    "sgd_best = SGDClassifier()\n",
    "# param to test\n",
    "sgd_param_search = {\n",
    "    'alpha': [1e-7, 1e-6, 1e-5, 1e-4, 1e-3, 1e-2, 1e-1, 1e0],\n",
    "    'penalty': ['l2'],\n",
    "    'n_jobs': [-1]\n",
    "}\n",
    "\n",
    "# search the best params for sgd\n",
    "sgd_randomized_search = RandomizedSearchCV(sgd_best, sgd_param_search, n_iter=5, scoring='f1',\n",
    "                                           cv=5, verbose=2, random_state=42)\n",
    "sgd_randomized_search.fit(X_train_processed, y_train)"
   ]
  },
  {
   "cell_type": "code",
   "execution_count": 35,
   "metadata": {},
   "outputs": [],
   "source": [
    "# Get the best estimators\n",
    "mlp_best = mlp_grid_search.best_estimator_\n",
    "adaboost_best = adaboost_grid_search.best_estimator_\n",
    "sgd_best = sgd_randomized_search.best_estimator_"
   ]
  },
  {
   "cell_type": "markdown",
   "metadata": {},
   "source": [
    "Let's evaluate each fine tuned model on the training and test set"
   ]
  },
  {
   "cell_type": "code",
   "execution_count": 36,
   "metadata": {},
   "outputs": [],
   "source": [
    "from sklearn.metrics import accuracy_score, confusion_matrix, precision_score, recall_score, f1_score"
   ]
  },
  {
   "cell_type": "code",
   "execution_count": 37,
   "metadata": {},
   "outputs": [
    {
     "name": "stdout",
     "output_type": "stream",
     "text": [
      "MLP:\n",
      "confusion matrix: \n",
      " [[3318    1]\n",
      " [   1 1517]]\n",
      "accuracy: 0.9995865205706016\n",
      "precision: 0.9993412384716732\n",
      "recall: 0.9993412384716732\n",
      "f1-score: 0.9993412384716732\n",
      "\n",
      "AdaBoost:\n",
      "confusion matrix: \n",
      " [[3299   20]\n",
      " [  34 1484]]\n",
      "accuracy: 0.9888360554062435\n",
      "precision: 0.9867021276595744\n",
      "recall: 0.9776021080368906\n",
      "f1-score: 0.9821310390469887\n",
      "\n",
      "SGD:\n",
      "confusion matrix: \n",
      " [[3319    0]\n",
      " [   2 1516]]\n",
      "accuracy: 0.9995865205706016\n",
      "precision: 1.0\n",
      "recall: 0.9986824769433466\n",
      "f1-score: 0.999340804218853\n",
      "\n"
     ]
    }
   ],
   "source": [
    "# Evaluate each model on the training set\n",
    "best_clf = {\n",
    "    'MLP': mlp_best,\n",
    "    'AdaBoost': adaboost_best,\n",
    "    'SGD': sgd_best\n",
    "}\n",
    "\n",
    "# predict\n",
    "best_ypreds = {}\n",
    "for clf_name, clf in best_clf.items():\n",
    "    best_ypreds[clf_name] = clf.predict(X_train_processed)\n",
    "\n",
    "# evaluate\n",
    "for clf_name, y_pred in best_ypreds.items():\n",
    "    print(\"{}:\".format(clf_name))\n",
    "    print(\"confusion matrix: \\n {}\".format(confusion_matrix(y_train, y_pred)))\n",
    "    print(\"accuracy: {}\".format(accuracy_score(y_train, y_pred)))\n",
    "    print(\"precision: {}\".format(precision_score(y_train, y_pred)))\n",
    "    print(\"recall: {}\".format(recall_score(y_train, y_pred)))\n",
    "    print(\"f1-score: {}\".format(f1_score(y_train, y_pred)))\n",
    "    print()"
   ]
  },
  {
   "cell_type": "code",
   "execution_count": 38,
   "metadata": {},
   "outputs": [
    {
     "name": "stdout",
     "output_type": "stream",
     "text": [
      "MLP:\n",
      "confusion matrix: \n",
      " [[820  11]\n",
      " [ 14 365]]\n",
      "accuracy: 0.9793388429752066\n",
      "precision: 0.9707446808510638\n",
      "recall: 0.9630606860158312\n",
      "f1-score: 0.966887417218543\n",
      "\n",
      "AdaBoost:\n",
      "confusion matrix: \n",
      " [[823   8]\n",
      " [ 18 361]]\n",
      "accuracy: 0.9785123966942149\n",
      "precision: 0.978319783197832\n",
      "recall: 0.9525065963060686\n",
      "f1-score: 0.96524064171123\n",
      "\n",
      "SGD:\n",
      "confusion matrix: \n",
      " [[817  14]\n",
      " [ 13 366]]\n",
      "accuracy: 0.9776859504132231\n",
      "precision: 0.9631578947368421\n",
      "recall: 0.9656992084432717\n",
      "f1-score: 0.9644268774703557\n",
      "\n"
     ]
    }
   ],
   "source": [
    "# Evaluate each model on the test set\n",
    "\n",
    "# predict\n",
    "best_ypreds = {}\n",
    "for clf_name, clf in best_clf.items():\n",
    "    best_ypreds[clf_name] = clf.predict(X_test_processed)\n",
    "\n",
    "# evaluate\n",
    "for clf_name, y_pred in best_ypreds.items():\n",
    "    print(\"{}:\".format(clf_name))\n",
    "    print(\"confusion matrix: \\n {}\".format(confusion_matrix(y_test, y_pred)))\n",
    "    print(\"accuracy: {}\".format(accuracy_score(y_test, y_pred)))\n",
    "    print(\"precision: {}\".format(precision_score(y_test, y_pred)))\n",
    "    print(\"recall: {}\".format(recall_score(y_test, y_pred)))\n",
    "    print(\"f1-score: {}\".format(f1_score(y_test, y_pred)))\n",
    "    print()"
   ]
  },
  {
   "cell_type": "markdown",
   "metadata": {},
   "source": [
    "# Conclusions"
   ]
  },
  {
   "cell_type": "markdown",
   "metadata": {},
   "source": [
    "After fine tuning our shortlisted classifiers, we can say that the 'best' classifier is **MLP** with the following metrics:\n",
    "* accuracy: 91.5%\n",
    "* precision: 85.6%\n",
    "* recall: 87.6%\n",
    "* f1-score: 86.6 %"
   ]
  },
  {
   "cell_type": "markdown",
   "metadata": {},
   "source": [
    "The above 'best' model can be saved for future uses:"
   ]
  },
  {
   "cell_type": "code",
   "execution_count": 39,
   "metadata": {},
   "outputs": [
    {
     "name": "stdout",
     "output_type": "stream",
     "text": [
      "MLPClassifier(activation='tanh', alpha=0.0001, batch_size='auto', beta_1=0.9,\n",
      "              beta_2=0.999, early_stopping=False, epsilon=1e-08,\n",
      "              hidden_layer_sizes=(16, 16), learning_rate='constant',\n",
      "              learning_rate_init=0.001, max_iter=200, momentum=0.9,\n",
      "              n_iter_no_change=10, nesterovs_momentum=True, power_t=0.5,\n",
      "              random_state=None, shuffle=True, solver='adam', tol=0.0001,\n",
      "              validation_fraction=0.1, verbose=False, warm_start=False)\n"
     ]
    }
   ],
   "source": [
    "import pickle\n",
    "\n",
    "output = open('mlp_best.pkl', 'wb')\n",
    "pickle.dump(mlp_best, output)\n",
    "output.close()\n",
    "print(mlp_best)"
   ]
  }
 ],
 "metadata": {
  "kernelspec": {
   "display_name": "Python 3",
   "language": "python",
   "name": "python3"
  },
  "language_info": {
   "codemirror_mode": {
    "name": "ipython",
    "version": 3
   },
   "file_extension": ".py",
   "mimetype": "text/x-python",
   "name": "python",
   "nbconvert_exporter": "python",
   "pygments_lexer": "ipython3",
   "version": "3.7.4"
  }
 },
 "nbformat": 4,
 "nbformat_minor": 2
}
